{
  "nbformat": 4,
  "nbformat_minor": 0,
  "metadata": {
    "kernelspec": {
      "display_name": "Python 3",
      "language": "python",
      "name": "python3"
    },
    "language_info": {
      "codemirror_mode": {
        "name": "ipython",
        "version": 3
      },
      "file_extension": ".py",
      "mimetype": "text/x-python",
      "name": "python",
      "nbconvert_exporter": "python",
      "pygments_lexer": "ipython3",
      "version": "3.8.3"
    },
    "colab": {
      "name": "Nlp for Detecting Disasters.ipynb",
      "provenance": []
    }
  },
  "cells": [
    {
      "cell_type": "code",
      "metadata": {
        "id": "fpH6aABOQYzD"
      },
      "source": [
        "import tensorflow as tf \n",
        "from tensorflow import keras\n",
        "import pandas as pd \n",
        "import numpy as np \n",
        "import os\n",
        "import matplotlib.pyplot as plt \n",
        "import time"
      ],
      "execution_count": 1,
      "outputs": []
    },
    {
      "cell_type": "code",
      "metadata": {
        "id": "R9LDL0atQYzL"
      },
      "source": [
        "df = pd.read_csv('train.csv')"
      ],
      "execution_count": 2,
      "outputs": []
    },
    {
      "cell_type": "code",
      "metadata": {
        "colab": {
          "base_uri": "https://localhost:8080/",
          "height": 204
        },
        "id": "uxz70SloQYzQ",
        "outputId": "ad481b4e-e995-4a5f-e06e-9e5c1fbe9243"
      },
      "source": [
        "df.head()"
      ],
      "execution_count": 3,
      "outputs": [
        {
          "output_type": "execute_result",
          "data": {
            "text/html": [
              "<div>\n",
              "<style scoped>\n",
              "    .dataframe tbody tr th:only-of-type {\n",
              "        vertical-align: middle;\n",
              "    }\n",
              "\n",
              "    .dataframe tbody tr th {\n",
              "        vertical-align: top;\n",
              "    }\n",
              "\n",
              "    .dataframe thead th {\n",
              "        text-align: right;\n",
              "    }\n",
              "</style>\n",
              "<table border=\"1\" class=\"dataframe\">\n",
              "  <thead>\n",
              "    <tr style=\"text-align: right;\">\n",
              "      <th></th>\n",
              "      <th>id</th>\n",
              "      <th>keyword</th>\n",
              "      <th>location</th>\n",
              "      <th>text</th>\n",
              "      <th>target</th>\n",
              "    </tr>\n",
              "  </thead>\n",
              "  <tbody>\n",
              "    <tr>\n",
              "      <th>0</th>\n",
              "      <td>1</td>\n",
              "      <td>NaN</td>\n",
              "      <td>NaN</td>\n",
              "      <td>Our Deeds are the Reason of this #earthquake M...</td>\n",
              "      <td>1</td>\n",
              "    </tr>\n",
              "    <tr>\n",
              "      <th>1</th>\n",
              "      <td>4</td>\n",
              "      <td>NaN</td>\n",
              "      <td>NaN</td>\n",
              "      <td>Forest fire near La Ronge Sask. Canada</td>\n",
              "      <td>1</td>\n",
              "    </tr>\n",
              "    <tr>\n",
              "      <th>2</th>\n",
              "      <td>5</td>\n",
              "      <td>NaN</td>\n",
              "      <td>NaN</td>\n",
              "      <td>All residents asked to 'shelter in place' are ...</td>\n",
              "      <td>1</td>\n",
              "    </tr>\n",
              "    <tr>\n",
              "      <th>3</th>\n",
              "      <td>6</td>\n",
              "      <td>NaN</td>\n",
              "      <td>NaN</td>\n",
              "      <td>13,000 people receive #wildfires evacuation or...</td>\n",
              "      <td>1</td>\n",
              "    </tr>\n",
              "    <tr>\n",
              "      <th>4</th>\n",
              "      <td>7</td>\n",
              "      <td>NaN</td>\n",
              "      <td>NaN</td>\n",
              "      <td>Just got sent this photo from Ruby #Alaska as ...</td>\n",
              "      <td>1</td>\n",
              "    </tr>\n",
              "  </tbody>\n",
              "</table>\n",
              "</div>"
            ],
            "text/plain": [
              "   id keyword  ...                                               text target\n",
              "0   1     NaN  ...  Our Deeds are the Reason of this #earthquake M...      1\n",
              "1   4     NaN  ...             Forest fire near La Ronge Sask. Canada      1\n",
              "2   5     NaN  ...  All residents asked to 'shelter in place' are ...      1\n",
              "3   6     NaN  ...  13,000 people receive #wildfires evacuation or...      1\n",
              "4   7     NaN  ...  Just got sent this photo from Ruby #Alaska as ...      1\n",
              "\n",
              "[5 rows x 5 columns]"
            ]
          },
          "metadata": {},
          "execution_count": 3
        }
      ]
    },
    {
      "cell_type": "code",
      "metadata": {
        "colab": {
          "base_uri": "https://localhost:8080/"
        },
        "id": "kYKTheffQYzT",
        "outputId": "cda4a33f-6a2f-473b-b270-ad9288d6b103"
      },
      "source": [
        "df.shape"
      ],
      "execution_count": 4,
      "outputs": [
        {
          "output_type": "execute_result",
          "data": {
            "text/plain": [
              "(7613, 5)"
            ]
          },
          "metadata": {},
          "execution_count": 4
        }
      ]
    },
    {
      "cell_type": "code",
      "metadata": {
        "colab": {
          "base_uri": "https://localhost:8080/"
        },
        "id": "C97Gyy2jQYzU",
        "outputId": "92d7a7bd-49f2-40e8-bd3f-f9811d45a17c"
      },
      "source": [
        "print((df.target == 1).sum()) # disaster\n",
        "print((df.target == 0).sum()) # no disaster"
      ],
      "execution_count": 5,
      "outputs": [
        {
          "output_type": "stream",
          "text": [
            "3271\n",
            "4342\n"
          ],
          "name": "stdout"
        }
      ]
    },
    {
      "cell_type": "code",
      "metadata": {
        "colab": {
          "base_uri": "https://localhost:8080/",
          "height": 35
        },
        "id": "KgSTx3TAQYzV",
        "outputId": "c055a622-7a85-4219-f913-dcfc902a2049"
      },
      "source": [
        "# Preprocessing\n",
        "\n",
        "import re # Regular Expression\n",
        "import string\n",
        "\n",
        "def remove_url(text):\n",
        "        url = re.compile(r\"https?://\\S+|www\\.\\S+\")\n",
        "        return url.sub(r\"\", text)\n",
        "\n",
        "def remove_punc(text):\n",
        "    translator = str.maketrans(\"\", \"\", string.punctuation)\n",
        "    return text.translate(translator)\n",
        "\n",
        "string.punctuation\n"
      ],
      "execution_count": 7,
      "outputs": [
        {
          "output_type": "execute_result",
          "data": {
            "application/vnd.google.colaboratory.intrinsic+json": {
              "type": "string"
            },
            "text/plain": [
              "'!\"#$%&\\'()*+,-./:;<=>?@[\\\\]^_`{|}~'"
            ]
          },
          "metadata": {},
          "execution_count": 7
        }
      ]
    },
    {
      "cell_type": "code",
      "metadata": {
        "tags": [],
        "colab": {
          "base_uri": "https://localhost:8080/"
        },
        "id": "09luBshNQYzX",
        "outputId": "ec76c12d-3d7c-4eff-bdc2-54f303a72c0d"
      },
      "source": [
        "pattern = re.compile(r\"https?://(\\S+|www)\\.\\S+\")\n",
        "for t in df.text:\n",
        "    matches = pattern.findall(t)\n",
        "    for match in matches:\n",
        "        print(\"1\")\n",
        "        print(t)\n",
        "        print(\"2\")\n",
        "        print(match)\n",
        "        print(\"3\")\n",
        "        print(pattern.sub(r\"\", t))\n",
        "    if len(matches) > 0:\n",
        "        break"
      ],
      "execution_count": 8,
      "outputs": [
        {
          "output_type": "stream",
          "text": [
            "1\n",
            "@bbcmtd Wholesale Markets ablaze http://t.co/lHYXEOHY6C\n",
            "2\n",
            "t\n",
            "3\n",
            "@bbcmtd Wholesale Markets ablaze \n"
          ],
          "name": "stdout"
        }
      ]
    },
    {
      "cell_type": "code",
      "metadata": {
        "colab": {
          "base_uri": "https://localhost:8080/",
          "height": 204
        },
        "id": "ELW0l-i7QYzZ",
        "outputId": "03181633-046c-40ae-d45b-582264d44ed0"
      },
      "source": [
        "df['text'] = df.text.map(remove_url)        # map(lambda x: remove_url(x))\n",
        "df['text'] = df.text.map(remove_punc)\n",
        "df.head()"
      ],
      "execution_count": 9,
      "outputs": [
        {
          "output_type": "execute_result",
          "data": {
            "text/html": [
              "<div>\n",
              "<style scoped>\n",
              "    .dataframe tbody tr th:only-of-type {\n",
              "        vertical-align: middle;\n",
              "    }\n",
              "\n",
              "    .dataframe tbody tr th {\n",
              "        vertical-align: top;\n",
              "    }\n",
              "\n",
              "    .dataframe thead th {\n",
              "        text-align: right;\n",
              "    }\n",
              "</style>\n",
              "<table border=\"1\" class=\"dataframe\">\n",
              "  <thead>\n",
              "    <tr style=\"text-align: right;\">\n",
              "      <th></th>\n",
              "      <th>id</th>\n",
              "      <th>keyword</th>\n",
              "      <th>location</th>\n",
              "      <th>text</th>\n",
              "      <th>target</th>\n",
              "    </tr>\n",
              "  </thead>\n",
              "  <tbody>\n",
              "    <tr>\n",
              "      <th>0</th>\n",
              "      <td>1</td>\n",
              "      <td>NaN</td>\n",
              "      <td>NaN</td>\n",
              "      <td>Our Deeds are the Reason of this earthquake Ma...</td>\n",
              "      <td>1</td>\n",
              "    </tr>\n",
              "    <tr>\n",
              "      <th>1</th>\n",
              "      <td>4</td>\n",
              "      <td>NaN</td>\n",
              "      <td>NaN</td>\n",
              "      <td>Forest fire near La Ronge Sask Canada</td>\n",
              "      <td>1</td>\n",
              "    </tr>\n",
              "    <tr>\n",
              "      <th>2</th>\n",
              "      <td>5</td>\n",
              "      <td>NaN</td>\n",
              "      <td>NaN</td>\n",
              "      <td>All residents asked to shelter in place are be...</td>\n",
              "      <td>1</td>\n",
              "    </tr>\n",
              "    <tr>\n",
              "      <th>3</th>\n",
              "      <td>6</td>\n",
              "      <td>NaN</td>\n",
              "      <td>NaN</td>\n",
              "      <td>13000 people receive wildfires evacuation orde...</td>\n",
              "      <td>1</td>\n",
              "    </tr>\n",
              "    <tr>\n",
              "      <th>4</th>\n",
              "      <td>7</td>\n",
              "      <td>NaN</td>\n",
              "      <td>NaN</td>\n",
              "      <td>Just got sent this photo from Ruby Alaska as s...</td>\n",
              "      <td>1</td>\n",
              "    </tr>\n",
              "  </tbody>\n",
              "</table>\n",
              "</div>"
            ],
            "text/plain": [
              "   id keyword  ...                                               text target\n",
              "0   1     NaN  ...  Our Deeds are the Reason of this earthquake Ma...      1\n",
              "1   4     NaN  ...              Forest fire near La Ronge Sask Canada      1\n",
              "2   5     NaN  ...  All residents asked to shelter in place are be...      1\n",
              "3   6     NaN  ...  13000 people receive wildfires evacuation orde...      1\n",
              "4   7     NaN  ...  Just got sent this photo from Ruby Alaska as s...      1\n",
              "\n",
              "[5 rows x 5 columns]"
            ]
          },
          "metadata": {},
          "execution_count": 9
        }
      ]
    },
    {
      "cell_type": "code",
      "metadata": {
        "colab": {
          "base_uri": "https://localhost:8080/"
        },
        "id": "LOfZ93A3QYzb",
        "outputId": "a7bc0896-1731-4303-ac32-0edbf8559307"
      },
      "source": [
        "# remove stopwords \n",
        "# (Stopwords are the English words which does not add much meaning to a sentence. They can safely be ignored           without sacrificing the meaning of the sentence. For example, the words like the, he, have etc. Such words are      already captured this in corpus named corpus.\n",
        "import nltk\n",
        "nltk.download('stopwords')\n",
        "from nltk.corpus import stopwords\n",
        "\n",
        "stop = set(stopwords.words(\"english\"))\n",
        "\n",
        "def remove_stopwords(text):\n",
        "    filtered_words = [word.lower() for word in text.split() if word.lower() not in stop]\n",
        "    return \" \".join(filtered_words)"
      ],
      "execution_count": 10,
      "outputs": [
        {
          "output_type": "stream",
          "text": [
            "[nltk_data] Downloading package stopwords to /root/nltk_data...\n",
            "[nltk_data]   Unzipping corpora/stopwords.zip.\n"
          ],
          "name": "stdout"
        }
      ]
    },
    {
      "cell_type": "code",
      "metadata": {
        "colab": {
          "base_uri": "https://localhost:8080/"
        },
        "id": "f5GGxQ5UQYzd",
        "outputId": "e2181bc2-951d-4c2a-e7c7-1ea209e80f43"
      },
      "source": [
        "df[\"text\"] = df.text.map(remove_stopwords)\n",
        "df.text"
      ],
      "execution_count": 11,
      "outputs": [
        {
          "output_type": "execute_result",
          "data": {
            "text/plain": [
              "0            deeds reason earthquake may allah forgive us\n",
              "1                   forest fire near la ronge sask canada\n",
              "2       residents asked shelter place notified officer...\n",
              "3       13000 people receive wildfires evacuation orde...\n",
              "4       got sent photo ruby alaska smoke wildfires pou...\n",
              "                              ...                        \n",
              "7608    two giant cranes holding bridge collapse nearb...\n",
              "7609    ariaahrary thetawniest control wild fires cali...\n",
              "7610                      m194 0104 utc5km volcano hawaii\n",
              "7611    police investigating ebike collided car little...\n",
              "7612    latest homes razed northern california wildfir...\n",
              "Name: text, Length: 7613, dtype: object"
            ]
          },
          "metadata": {},
          "execution_count": 11
        }
      ]
    },
    {
      "cell_type": "code",
      "metadata": {
        "id": "CunmcFcpQYzh"
      },
      "source": [
        "from collections import Counter\n",
        "\n",
        "# Count unique words\n",
        "def counter_word(text_col):\n",
        "    count = Counter()\n",
        "    for text in text_col.values:\n",
        "        for word in text.split():\n",
        "            count[word] += 1\n",
        "    return count\n",
        "\n",
        "counter = counter_word(df.text)"
      ],
      "execution_count": 12,
      "outputs": []
    },
    {
      "cell_type": "code",
      "metadata": {
        "colab": {
          "base_uri": "https://localhost:8080/"
        },
        "id": "6jZQX8jOQYzi",
        "outputId": "d12aa5b7-bf6a-4fd3-9d20-a54f0834eadb"
      },
      "source": [
        "len(counter)"
      ],
      "execution_count": 13,
      "outputs": [
        {
          "output_type": "execute_result",
          "data": {
            "text/plain": [
              "17971"
            ]
          },
          "metadata": {},
          "execution_count": 13
        }
      ]
    },
    {
      "cell_type": "code",
      "metadata": {
        "id": "dzxQn5e2QYzj"
      },
      "source": [
        "# counter"
      ],
      "execution_count": 14,
      "outputs": []
    },
    {
      "cell_type": "code",
      "metadata": {
        "colab": {
          "base_uri": "https://localhost:8080/"
        },
        "id": "qp-R0Xx9QYzk",
        "outputId": "3d8f0d1b-c3bb-4e30-a425-c1e7bcdba262"
      },
      "source": [
        "counter.most_common(5)"
      ],
      "execution_count": 15,
      "outputs": [
        {
          "output_type": "execute_result",
          "data": {
            "text/plain": [
              "[('like', 345), ('im', 299), ('amp', 298), ('fire', 250), ('get', 229)]"
            ]
          },
          "metadata": {},
          "execution_count": 15
        }
      ]
    },
    {
      "cell_type": "code",
      "metadata": {
        "id": "nJq6_oGCQYzl"
      },
      "source": [
        "num_unique_words = len(counter)"
      ],
      "execution_count": 16,
      "outputs": []
    },
    {
      "cell_type": "code",
      "metadata": {
        "id": "uFJBN3AwQYzm"
      },
      "source": [
        "train_size = int(df.shape[0] * 0.8)\n",
        "train_df = df[:train_size]\n",
        "val_df = df[train_size:]\n",
        "\n",
        "train_sentence = train_df.text.to_numpy()\n",
        "train_labels = train_df.target.to_numpy()\n",
        "val_sentence = val_df.text.to_numpy()\n",
        "val_labels = val_df.target.to_numpy()"
      ],
      "execution_count": 17,
      "outputs": []
    },
    {
      "cell_type": "code",
      "metadata": {
        "colab": {
          "base_uri": "https://localhost:8080/"
        },
        "id": "DyHiEvHwQYzn",
        "outputId": "0cf5101f-e943-4efc-f6e3-d9d96a625f54"
      },
      "source": [
        "train_sentence.shape, val_sentence.shape\n",
        "train_sentence"
      ],
      "execution_count": 18,
      "outputs": [
        {
          "output_type": "execute_result",
          "data": {
            "text/plain": [
              "array(['deeds reason earthquake may allah forgive us',\n",
              "       'forest fire near la ronge sask canada',\n",
              "       'residents asked shelter place notified officers evacuation shelter place orders expected',\n",
              "       ..., 'feel like sinking unhappiness take quiz',\n",
              "       'sinking music video tv career brooke hogan thanking dad free publicityalthough doubt help',\n",
              "       'supernovalester feel bad literally feel feeling heart sinking bc didnt get anyone ugh jfc'],\n",
              "      dtype=object)"
            ]
          },
          "metadata": {},
          "execution_count": 18
        }
      ]
    },
    {
      "cell_type": "code",
      "metadata": {
        "id": "aVAg5DtcQYzn"
      },
      "source": [
        "# tokenize \n",
        "\n",
        "from tensorflow.keras.preprocessing.text import Tokenizer\n",
        "\n",
        "# vectorize a text corpus by turning each text into a sequence of interger\n",
        "tokenizer = Tokenizer(num_words=num_unique_words)\n",
        "tokenizer.fit_on_texts(train_sentence)  # fit only to training"
      ],
      "execution_count": 19,
      "outputs": []
    },
    {
      "cell_type": "code",
      "metadata": {
        "id": "sgJwXXvTQYzo"
      },
      "source": [
        "# each word has unique index\n",
        "word_index = tokenizer.word_index"
      ],
      "execution_count": 20,
      "outputs": []
    },
    {
      "cell_type": "code",
      "metadata": {
        "id": "xrNamkRKQYzp"
      },
      "source": [
        "# word_index"
      ],
      "execution_count": 21,
      "outputs": []
    },
    {
      "cell_type": "code",
      "metadata": {
        "id": "cjYimt87QYzp"
      },
      "source": [
        "train_sequence = tokenizer.texts_to_sequences(train_sentence)\n",
        "val_sequence = tokenizer.texts_to_sequences(val_sentence)"
      ],
      "execution_count": 22,
      "outputs": []
    },
    {
      "cell_type": "code",
      "metadata": {
        "colab": {
          "base_uri": "https://localhost:8080/"
        },
        "id": "ZYo1RYwIQYzu",
        "outputId": "9dbc34d9-931b-429d-a89a-da65c42237e7"
      },
      "source": [
        "print(train_sentence[0:5])\n",
        "print(train_sequence[0:5])"
      ],
      "execution_count": 23,
      "outputs": [
        {
          "output_type": "stream",
          "text": [
            "['deeds reason earthquake may allah forgive us'\n",
            " 'forest fire near la ronge sask canada'\n",
            " 'residents asked shelter place notified officers evacuation shelter place orders expected'\n",
            " '13000 people receive wildfires evacuation orders california'\n",
            " 'got sent photo ruby alaska smoke wildfires pours school']\n",
            "[[3739, 696, 235, 41, 1282, 3740, 14], [71, 3, 129, 576, 5670, 5671, 1283], [1448, 1186, 1882, 495, 5672, 1449, 116, 1882, 495, 976, 1187], [2243, 8, 3741, 1070, 116, 976, 24], [27, 1071, 358, 5673, 1635, 892, 1070, 5674, 91]]\n"
          ],
          "name": "stdout"
        }
      ]
    },
    {
      "cell_type": "code",
      "metadata": {
        "colab": {
          "base_uri": "https://localhost:8080/"
        },
        "id": "GfKXEHeVQYzv",
        "outputId": "ac25d8ba-5aff-401d-8746-2fe5eb2d9b7e"
      },
      "source": [
        "# pad the sentence to have the same length\n",
        "from tensorflow.keras.preprocessing.sequence import pad_sequences\n",
        "\n",
        "# Maximum number of words in a suquence\n",
        "max_length = 20\n",
        "\n",
        "train_padded = pad_sequences(train_sequence, maxlen=max_length, padding=\"post\", truncating=\"post\")\n",
        "val_padded = pad_sequences(val_sequence, maxlen=max_length, padding=\"post\", truncating=\"post\")\n",
        "train_padded.shape, val_padded.shape"
      ],
      "execution_count": 24,
      "outputs": [
        {
          "output_type": "execute_result",
          "data": {
            "text/plain": [
              "((6090, 20), (1523, 20))"
            ]
          },
          "metadata": {},
          "execution_count": 24
        }
      ]
    },
    {
      "cell_type": "code",
      "metadata": {
        "colab": {
          "base_uri": "https://localhost:8080/"
        },
        "id": "huw_vLfaQYzx",
        "outputId": "ec35b225-2305-4b65-a6eb-213911a5d200"
      },
      "source": [
        "train_padded[0]"
      ],
      "execution_count": 25,
      "outputs": [
        {
          "output_type": "execute_result",
          "data": {
            "text/plain": [
              "array([3739,  696,  235,   41, 1282, 3740,   14,    0,    0,    0,    0,\n",
              "          0,    0,    0,    0,    0,    0,    0,    0,    0], dtype=int32)"
            ]
          },
          "metadata": {},
          "execution_count": 25
        }
      ]
    },
    {
      "cell_type": "code",
      "metadata": {
        "colab": {
          "base_uri": "https://localhost:8080/"
        },
        "id": "kc-KUYqOQYzx",
        "outputId": "0bfa7728-36c1-4e4d-9af9-b9ba8c140b5e"
      },
      "source": [
        "print(train_sentence[10])\n",
        "print(train_sequence[10])\n",
        "print(train_padded[10])"
      ],
      "execution_count": 26,
      "outputs": [
        {
          "output_type": "stream",
          "text": [
            "three people died heat wave far\n",
            "[520, 8, 395, 156, 297, 411]\n",
            "[520   8 395 156 297 411   0   0   0   0   0   0   0   0   0   0   0   0\n",
            "   0   0]\n"
          ],
          "name": "stdout"
        }
      ]
    },
    {
      "cell_type": "code",
      "metadata": {
        "id": "ljGubLdyQYzz"
      },
      "source": [
        "# Check reversing the indices\n",
        "\n",
        "# flip key, values\n",
        "reverse_word_index = dict([(idx, word) for word, idx in word_index.items()])"
      ],
      "execution_count": 27,
      "outputs": []
    },
    {
      "cell_type": "code",
      "metadata": {
        "id": "jIlqHUW5QYz0"
      },
      "source": [
        "# reverse_word_index"
      ],
      "execution_count": 28,
      "outputs": []
    },
    {
      "cell_type": "code",
      "metadata": {
        "id": "DENbPfeEQYz0"
      },
      "source": [
        "def decode(sequence):\n",
        "    return ' '.join([reverse_word_index.get(idx, \"?\") for idx in sequence])"
      ],
      "execution_count": 29,
      "outputs": []
    },
    {
      "cell_type": "code",
      "metadata": {
        "colab": {
          "base_uri": "https://localhost:8080/"
        },
        "id": "4AWm_QyzQYz1",
        "outputId": "aeacd8c0-a323-4e4d-eb8a-725c2418c25b"
      },
      "source": [
        "decode_text = decode(train_sequence[10])\n",
        "print(train_sequence[10])\n",
        "print(decode_text)"
      ],
      "execution_count": 30,
      "outputs": [
        {
          "output_type": "stream",
          "text": [
            "[520, 8, 395, 156, 297, 411]\n",
            "three people died heat wave far\n"
          ],
          "name": "stdout"
        }
      ]
    },
    {
      "cell_type": "code",
      "metadata": {
        "colab": {
          "base_uri": "https://localhost:8080/"
        },
        "id": "nX0j7CiWQYz2",
        "outputId": "1a946f30-e1d5-46ee-c978-78e1b0797993"
      },
      "source": [
        "# Create LSTM Model\n",
        "from tensorflow.keras import layers\n",
        "\n",
        "# Embedding: https://www.tensorflow.org/tutorials/text/word_embeddings\n",
        "# Turns positive integers (indexes) into dense vectors of fixed size. (other approach could be one-hot-encoding)\n",
        "\n",
        "model = keras.models.Sequential()\n",
        "model.add(layers.Embedding(num_unique_words, 32, input_length=max_length))\n",
        "\n",
        "# The layer will take as input an integer matrix of size (batch, input_length)\n",
        "# and  the largest integer (i.e. word index) in the input should be no longer than num_words (vocabulary size)\n",
        "# Now model.output_shape is (None, input_length, 32), where None is tha batch dimension\n",
        "\n",
        "model.add(layers.LSTM(64, dropout=0.1))\n",
        "model.add(layers.Dense(1, activation='sigmoid'))\n",
        "\n",
        "model.summary()"
      ],
      "execution_count": 31,
      "outputs": [
        {
          "output_type": "stream",
          "text": [
            "Model: \"sequential\"\n",
            "_________________________________________________________________\n",
            "Layer (type)                 Output Shape              Param #   \n",
            "=================================================================\n",
            "embedding (Embedding)        (None, 20, 32)            575072    \n",
            "_________________________________________________________________\n",
            "lstm (LSTM)                  (None, 64)                24832     \n",
            "_________________________________________________________________\n",
            "dense (Dense)                (None, 1)                 65        \n",
            "=================================================================\n",
            "Total params: 599,969\n",
            "Trainable params: 599,969\n",
            "Non-trainable params: 0\n",
            "_________________________________________________________________\n"
          ],
          "name": "stdout"
        }
      ]
    },
    {
      "cell_type": "code",
      "metadata": {
        "colab": {
          "base_uri": "https://localhost:8080/"
        },
        "id": "nTfDyllXQYz6",
        "outputId": "df539978-6100-468d-8690-0b74fa3ade81"
      },
      "source": [
        "loss = keras.losses.BinaryCrossentropy(from_logits=False)\n",
        "optim = keras.optimizers.Adam(lr=0.001)\n",
        "metrics = ['accuracy']\n",
        "\n",
        "model.compile(loss=loss, optimizer=optim, metrics=metrics)"
      ],
      "execution_count": 32,
      "outputs": [
        {
          "output_type": "stream",
          "text": [
            "/usr/local/lib/python3.7/dist-packages/keras/optimizer_v2/optimizer_v2.py:356: UserWarning: The `lr` argument is deprecated, use `learning_rate` instead.\n",
            "  \"The `lr` argument is deprecated, use `learning_rate` instead.\")\n"
          ],
          "name": "stderr"
        }
      ]
    },
    {
      "cell_type": "code",
      "metadata": {
        "colab": {
          "base_uri": "https://localhost:8080/"
        },
        "id": "qpRniWJtQY0A",
        "outputId": "80d22ffd-5372-49cc-ed69-ea63d758f819"
      },
      "source": [
        "model.fit(train_padded, train_labels, epochs=20, validation_data=(val_padded, val_labels), verbose=2)"
      ],
      "execution_count": 33,
      "outputs": [
        {
          "output_type": "stream",
          "text": [
            "Epoch 1/20\n",
            "191/191 - 6s - loss: 0.5512 - accuracy: 0.7097 - val_loss: 0.4764 - val_accuracy: 0.7879\n",
            "Epoch 2/20\n",
            "191/191 - 4s - loss: 0.2873 - accuracy: 0.8883 - val_loss: 0.5106 - val_accuracy: 0.7787\n",
            "Epoch 3/20\n",
            "191/191 - 4s - loss: 0.1562 - accuracy: 0.9509 - val_loss: 0.6288 - val_accuracy: 0.7498\n",
            "Epoch 4/20\n",
            "191/191 - 4s - loss: 0.1149 - accuracy: 0.9645 - val_loss: 0.6547 - val_accuracy: 0.7505\n",
            "Epoch 5/20\n",
            "191/191 - 4s - loss: 0.0867 - accuracy: 0.9721 - val_loss: 0.6556 - val_accuracy: 0.7387\n",
            "Epoch 6/20\n",
            "191/191 - 4s - loss: 0.0699 - accuracy: 0.9755 - val_loss: 0.7358 - val_accuracy: 0.7439\n",
            "Epoch 7/20\n",
            "191/191 - 4s - loss: 0.0527 - accuracy: 0.9788 - val_loss: 1.2024 - val_accuracy: 0.7400\n",
            "Epoch 8/20\n",
            "191/191 - 4s - loss: 0.0467 - accuracy: 0.9775 - val_loss: 1.3367 - val_accuracy: 0.7288\n",
            "Epoch 9/20\n",
            "191/191 - 4s - loss: 0.0388 - accuracy: 0.9811 - val_loss: 1.5832 - val_accuracy: 0.7065\n",
            "Epoch 10/20\n",
            "191/191 - 4s - loss: 0.0369 - accuracy: 0.9823 - val_loss: 1.6799 - val_accuracy: 0.7177\n",
            "Epoch 11/20\n",
            "191/191 - 4s - loss: 0.0467 - accuracy: 0.9795 - val_loss: 1.0827 - val_accuracy: 0.7380\n",
            "Epoch 12/20\n",
            "191/191 - 4s - loss: 0.0404 - accuracy: 0.9826 - val_loss: 1.4192 - val_accuracy: 0.7334\n",
            "Epoch 13/20\n",
            "191/191 - 4s - loss: 0.0330 - accuracy: 0.9836 - val_loss: 1.4243 - val_accuracy: 0.7301\n",
            "Epoch 14/20\n",
            "191/191 - 4s - loss: 0.0327 - accuracy: 0.9842 - val_loss: 1.7562 - val_accuracy: 0.7275\n",
            "Epoch 15/20\n",
            "191/191 - 4s - loss: 0.0415 - accuracy: 0.9824 - val_loss: 1.2650 - val_accuracy: 0.7420\n",
            "Epoch 16/20\n",
            "191/191 - 4s - loss: 0.0334 - accuracy: 0.9836 - val_loss: 1.4730 - val_accuracy: 0.7380\n",
            "Epoch 17/20\n",
            "191/191 - 4s - loss: 0.0374 - accuracy: 0.9821 - val_loss: 1.7070 - val_accuracy: 0.7341\n",
            "Epoch 18/20\n",
            "191/191 - 4s - loss: 0.0326 - accuracy: 0.9849 - val_loss: 1.4810 - val_accuracy: 0.7262\n",
            "Epoch 19/20\n",
            "191/191 - 4s - loss: 0.0295 - accuracy: 0.9851 - val_loss: 1.7444 - val_accuracy: 0.7223\n",
            "Epoch 20/20\n",
            "191/191 - 4s - loss: 0.0325 - accuracy: 0.9846 - val_loss: 1.8513 - val_accuracy: 0.7301\n"
          ],
          "name": "stdout"
        },
        {
          "output_type": "execute_result",
          "data": {
            "text/plain": [
              "<keras.callbacks.History at 0x7fac8af17d90>"
            ]
          },
          "metadata": {},
          "execution_count": 33
        }
      ]
    },
    {
      "cell_type": "code",
      "metadata": {
        "id": "YymQjIioQY0B"
      },
      "source": [
        "predictions = model.predict(train_padded)\n",
        "predictions = [1 if p> 0.5 else 0 for p in predictions]"
      ],
      "execution_count": 34,
      "outputs": []
    },
    {
      "cell_type": "code",
      "metadata": {
        "colab": {
          "base_uri": "https://localhost:8080/"
        },
        "id": "yl9c5scnQY0C",
        "outputId": "e7f424e4-8f2e-4aab-c6fd-2ca52679f950"
      },
      "source": [
        "print(train_sentence[10:20])"
      ],
      "execution_count": 35,
      "outputs": [
        {
          "output_type": "stream",
          "text": [
            "['three people died heat wave far'\n",
            " 'haha south tampa getting flooded hah wait second live south tampa gonna gonna fvck flooding'\n",
            " 'raining flooding florida tampabay tampa 18 19 days ive lost count'\n",
            " 'flood bago myanmar arrived bago'\n",
            " 'damage school bus 80 multi car crash breaking' 'whats man' 'love fruits'\n",
            " 'summer lovely' 'car fast' 'goooooooaaaaaal']\n"
          ],
          "name": "stdout"
        }
      ]
    },
    {
      "cell_type": "code",
      "metadata": {
        "colab": {
          "base_uri": "https://localhost:8080/"
        },
        "id": "MgrWkmGlQY0D",
        "outputId": "95673576-141b-4191-a8e6-d8ac9c2d5461"
      },
      "source": [
        "print(train_labels[10:20])\n",
        "print(predictions[10:20])"
      ],
      "execution_count": 36,
      "outputs": [
        {
          "output_type": "stream",
          "text": [
            "[1 1 1 1 1 0 0 0 0 0]\n",
            "[1, 1, 1, 1, 1, 0, 0, 0, 0, 0]\n"
          ],
          "name": "stdout"
        }
      ]
    },
    {
      "cell_type": "code",
      "metadata": {
        "id": "alkKkUe4QY0E"
      },
      "source": [
        ""
      ],
      "execution_count": 36,
      "outputs": []
    }
  ]
}